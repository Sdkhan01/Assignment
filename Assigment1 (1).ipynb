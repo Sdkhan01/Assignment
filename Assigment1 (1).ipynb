{
 "cells": [
  {
   "cell_type": "markdown",
   "id": "94d0bfa3-1ea9-42f7-a595-0c561c79a0b4",
   "metadata": {},
   "source": [
    "Q1. Explain with an example each when to use a for loop and a while loop.\n",
    "\n",
    "FOR LOOP : \n",
    "A for loop is a control flow statement that executes code for a predefined number of iterations. The keyword used in this control flow statement is “for”. When the number of iterations is already known, the for loop is used.\n",
    "\n",
    "The for loop is divided into two parts −\n",
    "\n",
    "1-Header − This part specifies the iteration of the loop. In the header part, the loop variable is also declared, which tells the body which iteration is being executed.\n",
    "\n",
    "2-Body − The body part contains the statement executed per iteration.\n",
    "\n",
    "\n",
    "WHILE LOOP:\n",
    "A loop that runs a single statement or a set of statements for a given true condition. This loop is represented by the keyword \"while.\" When the number of iterations is unknown, a \"while\" loop is used. The statement is repeated until the boolean value is false.\n",
    "Here the condition is tested at the beginning of a while loop, it is also known as the pre-test loop.\n",
    "\n"
   ]
  },
  {
   "cell_type": "code",
   "execution_count": 2,
   "id": "0e26ae26-05c0-4da5-a970-5de35f38c9d2",
   "metadata": {},
   "outputs": [
    {
     "name": "stdout",
     "output_type": "stream",
     "text": [
      "list of all the names\n",
      "Shadab\n",
      "Shudh\n",
      "Shiv\n",
      "Ravi\n",
      "Raj\n"
     ]
    }
   ],
   "source": [
    "#For loop Eg:\n",
    "name = [\"Shadab\",\"Shudh\",\"Shiv\",\"Ravi\",\"Raj\"]\n",
    "print(\"list of all the names\")\n",
    "\n",
    "#Traversing through all the element in the list .\n",
    "for stud in name:\n",
    "    print(stud)"
   ]
  },
  {
   "cell_type": "code",
   "execution_count": 5,
   "id": "9309a4e6-d662-4098-a2c1-7d9843707576",
   "metadata": {},
   "outputs": [
    {
     "name": "stdout",
     "output_type": "stream",
     "text": [
      "1\n",
      "2\n",
      "3\n",
      "4\n",
      "5\n",
      "6\n",
      "7\n",
      "8\n",
      "9\n",
      "10\n",
      "11\n",
      "12\n",
      "13\n",
      "14\n",
      "15\n",
      "16\n",
      "17\n",
      "18\n",
      "19\n",
      "20\n"
     ]
    }
   ],
   "source": [
    "#While loop eg :\n",
    "#printing 1 to 20 numbers using while looop\n",
    "\n",
    "num = 1\n",
    "# Iterate until the given condition is true\n",
    "while num <=20:\n",
    "    print (num)\n",
    "    num+=1"
   ]
  },
  {
   "cell_type": "markdown",
   "id": "6a414596-e96a-44f0-a086-8c34d572c733",
   "metadata": {},
   "source": [
    "Q2. Write a python program to print the sum and product of the first 10 natural numbers using for\n",
    "and while loop."
   ]
  },
  {
   "cell_type": "code",
   "execution_count": 12,
   "id": "e13cc57f-6e46-4688-b81e-1bb034752293",
   "metadata": {},
   "outputs": [
    {
     "name": "stdout",
     "output_type": "stream",
     "text": [
      "1\n",
      "3\n",
      "6\n",
      "10\n",
      "15\n",
      "21\n",
      "28\n",
      "36\n",
      "45\n",
      "55\n",
      "1\n",
      "2\n",
      "6\n",
      "24\n",
      "120\n",
      "720\n",
      "5040\n",
      "40320\n",
      "362880\n",
      "3628800\n"
     ]
    }
   ],
   "source": [
    "#using for loop \n",
    "\n",
    "def sum():\n",
    "    num = 0\n",
    "    for i in range(1,11):\n",
    "        num = num+i\n",
    "        print(num)\n",
    "    \n",
    "def product():\n",
    "    num = 1\n",
    "    \n",
    "    for i in range(1,11):\n",
    "        num = num*i\n",
    "        print(num)\n",
    "sum()\n",
    "product()"
   ]
  },
  {
   "cell_type": "code",
   "execution_count": 15,
   "id": "6277f5a8-98b3-487f-80b6-640e1ac6b5be",
   "metadata": {},
   "outputs": [
    {
     "name": "stdout",
     "output_type": "stream",
     "text": [
      "Sum of first 10 natural num is 55\n",
      "Product of first 10 natural num is 3628800\n"
     ]
    }
   ],
   "source": [
    "#using while loop\n",
    "\n",
    "def sum ():\n",
    "    num = 10\n",
    "    sum = 0\n",
    "\n",
    "    while(num > 0):\n",
    "        sum += num\n",
    "        num = num-1\n",
    "    print(f\"Sum of first 10 natural num is {sum}\")\n",
    "\n",
    "def product ():\n",
    "    \n",
    "    num = 10\n",
    "    product = 1\n",
    "\n",
    "    while(num > 0):\n",
    "        product *= num\n",
    "        num = num-1\n",
    "    print(f\"Product of first 10 natural num is {product}\")\n",
    "\n",
    "sum()\n",
    "product()"
   ]
  },
  {
   "cell_type": "markdown",
   "id": "0fcbd9ea-e388-4c7b-95b2-6a35d4688730",
   "metadata": {},
   "source": [
    "Q3-Crate a python program to compute the electricity bill for a household,The per-unit charges in rupees are as follows: For the first 100 units, the user will be charged Rs. 4.5 per\n",
    "unit, for the next 100 units, the user will be charged Rs. 6 per unit, and for the next 100 units, the user will\n",
    "be charged Rs. 10 per unit, After 300 units and above the user will be charged Rs. 20 per unit."
   ]
  },
  {
   "cell_type": "code",
   "execution_count": 19,
   "id": "6a789a8a-3afe-417a-8bdc-f395923bd3c3",
   "metadata": {},
   "outputs": [
    {
     "name": "stdin",
     "output_type": "stream",
     "text": [
      "Enter the number of units consumed:  310\n"
     ]
    },
    {
     "name": "stdout",
     "output_type": "stream",
     "text": [
      "Your electricity bill is Rs. 2250.0\n"
     ]
    }
   ],
   "source": [
    "# Get the number of units consumed from the user\n",
    "units_consumed = float(input(\"Enter the number of units consumed: \"))\n",
    "\n",
    "# Calculate the electricity bill\n",
    "if units_consumed <= 100:\n",
    "    bill_amount = units_consumed * 4.5\n",
    "elif units_consumed <= 200:\n",
    "    bill_amount =100*4.5 + (units_consumed -100)*6\n",
    "elif units_consumed <= 300:\n",
    "    bill_amount = 100 * 4.5 + 100 * 6 + (units_consumed - 200) * 10\n",
    "else:\n",
    "    bill_amount = 100 * 4.5 + 100 * 6 + 100 * 10 + (units_consumed - 300) * 20\n",
    "\n",
    "# Print the electricity bill\n",
    "print(\"Your electricity bill is Rs.\", bill_amount)"
   ]
  },
  {
   "cell_type": "markdown",
   "id": "0786615f-64dd-48e0-893f-487ecafe688d",
   "metadata": {},
   "source": [
    "Q4-Create a list of numbers from 1 to 100. Use for loop and while loop to calculate the cube of each\n",
    "number and if the cube of that number is divisible by 4 or 5 then append that number in a list and print\n",
    "that list."
   ]
  },
  {
   "cell_type": "code",
   "execution_count": null,
   "id": "8b7958ef-43a7-4d8d-807e-a0ccbd892bb5",
   "metadata": {},
   "outputs": [],
   "source": [
    "#using for loop\n",
    "numbers = list(range(1, 101))  # Create a list of numbers from 1 to 100\n",
    "result = []\n",
    "i = 0\n",
    "\n",
    "while i < len(numbers):\n",
    "    num = numbers[i]\n",
    "    cube = num ** 3  # Calculate the cube of each number\n",
    "    if cube % 4 == 0 or cube % 5 == 0:  # Check if the cube is divisible by 4 or 5\n",
    "        result.append(num)  # Append the number to the result list if the condition is true\n",
    "    i += 1\n",
    "\n",
    "print(result) "
   ]
  },
  {
   "cell_type": "code",
   "execution_count": null,
   "id": "371ec422-5a71-4470-99c1-0bceaa466b2b",
   "metadata": {},
   "outputs": [],
   "source": [
    "#using while loop\n",
    "\n",
    "numbers = list(range(1, 101))  # Create a list of numbers from 1 to 100\n",
    "result = []\n",
    "i = 0\n",
    "\n",
    "while i < len(numbers):\n",
    "    num = numbers[i]\n",
    "    cube = num ** 3  # Calculate the cube of each number\n",
    "    if cube % 4 == 0 or cube % 5 == 0:  # Check if the cube is divisible by 4 or 5\n",
    "        result.append(num)  # Append the number to the result list if the condition is true\n",
    "    i += 1\n",
    "\n",
    "print(result) "
   ]
  },
  {
   "cell_type": "markdown",
   "id": "baf78bf7-0cfc-4ec1-892d-248b1a2aa904",
   "metadata": {},
   "source": [
    "Q5-Write a program to filter count vowels in the below-given string.\n",
    "string = \"I want to become a data scientist\"\n"
   ]
  },
  {
   "cell_type": "code",
   "execution_count": 2,
   "id": "3746d6b8-029d-47d4-b2b8-bf04dcae6610",
   "metadata": {},
   "outputs": [
    {
     "name": "stdout",
     "output_type": "stream",
     "text": [
      "11\n"
     ]
    }
   ],
   "source": [
    "string = \"I want to become a data scientist\"\n",
    "vowel = \"aeiou\".lower()\n",
    "count = 0\n",
    "\n",
    "for char in string:\n",
    "    if char in vowel:\n",
    "        count += 1\n",
    "print(count)\n",
    "        "
   ]
  },
  {
   "cell_type": "code",
   "execution_count": null,
   "id": "838a960a-7ac6-4b07-9f0b-81445c23eb8c",
   "metadata": {},
   "outputs": [],
   "source": []
  }
 ],
 "metadata": {
  "kernelspec": {
   "display_name": "Python 3 (ipykernel)",
   "language": "python",
   "name": "python3"
  },
  "language_info": {
   "codemirror_mode": {
    "name": "ipython",
    "version": 3
   },
   "file_extension": ".py",
   "mimetype": "text/x-python",
   "name": "python",
   "nbconvert_exporter": "python",
   "pygments_lexer": "ipython3",
   "version": "3.10.8"
  }
 },
 "nbformat": 4,
 "nbformat_minor": 5
}
